{
 "cells": [
  {
   "cell_type": "code",
   "execution_count": 1,
   "metadata": {
    "collapsed": false
   },
   "outputs": [],
   "source": [
    "\n",
    "from PIL import Image\n",
    "import pandas as pd\n",
    "import numpy as np\n",
    "import time\n",
    "import os\n",
    "import random\n",
    "from progressbar import progressbar\n",
    "\n",
    "import warnings\n",
    "warnings.simplefilter(action='ignore', category=FutureWarning)\n",
    "\n",
    "\n",
    "# Import configuration file\n",
    "from config import CONFIG\n"
   ]
  },
  {
   "cell_type": "code",
   "execution_count": 2,
   "metadata": {
    "collapsed": false
   },
   "outputs": [
    {
     "name": "stdout",
     "output_type": "stream",
     "text": [
      "[{'id': 1, 'name': 'background', 'directory': 'Background', 'required': True, 'rarity_weights': 'random'}, {'id': 2, 'name': 'body', 'directory': 'Body', 'required': True, 'rarity_weights': None}, {'id': 3, 'name': 'eyes', 'directory': 'Expressions', 'required': True, 'rarity_weights': None}, {'id': 4, 'name': 'head_gear', 'directory': 'Head Gear', 'required': False, 'rarity_weights': None}, {'id': 5, 'name': 'clothes', 'directory': 'Shirt', 'required': False, 'rarity_weights': None}, {'id': 6, 'name': 'held_item', 'directory': 'Misc', 'required': True, 'rarity_weights': None}, {'id': 7, 'name': 'hands', 'directory': 'Hands', 'required': True, 'rarity_weights': None}, {'id': 8, 'name': 'wristband', 'directory': 'Wristband', 'required': False, 'rarity_weights': None, 'filter': {5: [True, False]}}]\n"
     ]
    }
   ],
   "source": [
    "print(CONFIG)"
   ]
  },
  {
   "cell_type": "code",
   "execution_count": 3,
   "metadata": {
    "collapsed": true
   },
   "outputs": [],
   "source": [
    "## Weight rarities and return a numpy array that sums up to 1\n",
    "def get_weighted_rarities(arr):\n",
    "    return np.array(arr)/ sum(arr)"
   ]
  },
  {
   "cell_type": "code",
   "execution_count": 4,
   "metadata": {
    "collapsed": false
   },
   "outputs": [],
   "source": [
    "# Parse the configuration file and make sure it's valid\n",
    "def parse_config():\n",
    "    \n",
    "    # Input traits must be placed in the assets folder. Change this value if you want to name it something else.\n",
    "    assets_path = 'assets'\n",
    "\n",
    "    # Loop through all layers defined in CONFIG\n",
    "    for layer in CONFIG:\n",
    "\n",
    "        # Go into assets/ to look for layer folders\n",
    "        layer_path = os.path.join(assets_path, layer['directory'])\n",
    "        \n",
    "        # Get trait array in sorted order\n",
    "        traits = sorted([trait for trait in os.listdir(layer_path) if trait[0] != '.'])\n",
    "\n",
    "        # If layer is not required, add a None to the start of the traits array\n",
    "        if not layer['required']:\n",
    "            traits = [None] + traits\n",
    "        \n",
    "        # Generate final rarity weights\n",
    "        if layer['rarity_weights'] is None:\n",
    "            rarities = [1 for x in traits]\n",
    "        elif layer['rarity_weights'] == 'random':\n",
    "            rarities = [random.random() for x in traits]\n",
    "        elif type(layer['rarity_weights'] == 'list'):\n",
    "            assert len(traits) == len(layer['rarity_weights']), \"Make sure you have the current number of rarity weights\"\n",
    "            rarities = layer['rarity_weights']\n",
    "        else:\n",
    "            raise ValueError(\"Rarity weights is invalid\")\n",
    "        \n",
    "        rarities = get_weighted_rarities(rarities)\n",
    "        \n",
    "        # Re-assign final values to main CONFIG\n",
    "        layer['rarity_weights'] = rarities\n",
    "        layer['cum_rarity_weights'] = np.cumsum(rarities)\n",
    "        layer['traits'] = traits\n",
    "\n",
    "        #print(rarities)\n"
   ]
  },
  {
   "cell_type": "code",
   "execution_count": 5,
   "metadata": {
    "collapsed": true
   },
   "outputs": [],
   "source": [
    "# Generate a single image given an array of filepaths representing layers\n",
    "def generate_single_image(filepaths, output_filename=None):\n",
    "    \n",
    "    # Treat the first layer as the background\n",
    "    bg = Image.open(os.path.join('assets', filepaths[0]))\n",
    "    \n",
    "    \n",
    "    # Loop through layers 1 to n and stack them on top of another\n",
    "    for filepath in filepaths[1:]:\n",
    "        img = Image.open(os.path.join('assets', filepath))\n",
    "        bg.paste(img, (0,0), img)\n",
    "    \n",
    "    # Save the final image into desired location\n",
    "    if output_filename is not None:\n",
    "        bg.save(output_filename)\n",
    "    else:\n",
    "        # If output filename is not specified, use timestamp to name the image and save it in output/single_images\n",
    "        if not os.path.exists(os.path.join('output', 'single_images')):\n",
    "            os.makedirs(os.path.join('output', 'single_images'))\n",
    "        bg.save(os.path.join('output', 'single_images', str(int(time.time())) + '.png'))\n",
    "\n",
    "\n",
    "# Generate a single image with all possible traits\n",
    "# generate_single_image(['Background/green.png', \n",
    "#                        'Body/brown.png', \n",
    "#                        'Expressions/standard.png',\n",
    "#                        'Head Gear/std_crown.png',\n",
    "#                        'Shirt/blue_dot.png',\n",
    "#                        'Misc/pokeball.png',\n",
    "#                        'Hands/standard.png',\n",
    "#                        'Wristband/yellow.png'])\n"
   ]
  },
  {
   "cell_type": "code",
   "execution_count": 6,
   "metadata": {
    "collapsed": true
   },
   "outputs": [],
   "source": [
    "# Get total number of distinct possible combinations\n",
    "def get_total_combinations():\n",
    "    \n",
    "    total = 1\n",
    "    for layer in CONFIG:\n",
    "        total = total * len(layer['traits'])\n",
    "    return total"
   ]
  },
  {
   "cell_type": "code",
   "execution_count": 7,
   "metadata": {
    "collapsed": true
   },
   "outputs": [],
   "source": [
    "# Select an index based on rarity weights\n",
    "def select_index(cum_rarities, rand):\n",
    "    \n",
    "    cum_rarities = [0] + list(cum_rarities)\n",
    "    for i in range(len(cum_rarities) - 1):\n",
    "        if rand >= cum_rarities[i] and rand <= cum_rarities[i+1]:\n",
    "            return i\n",
    "    \n",
    "    # Should not reach here if everything works okay\n",
    "    return None"
   ]
  },
  {
   "cell_type": "code",
   "execution_count": 8,
   "metadata": {
    "collapsed": false
   },
   "outputs": [],
   "source": [
    "def is_allowed_combination(current_layer, idx_set, idx):\n",
    "    #assumes no trait if idx == 0, of course it could be the only item within a list of 1 required choices, in this case\n",
    "    #the filter wouldn't apply\n",
    "    if idx > 0:\n",
    "        #see if the current layer has any filters\n",
    "        for layer in CONFIG:\n",
    "            if int(layer['id']) == current_layer:\n",
    "                if layer.get('filter'):\n",
    "                    if layer['filter'].keys():\n",
    "                        #we check through each filter\n",
    "                        for (filter_target_id, mask) in layer['filter'].items():\n",
    "                            #let's see what trait value was selected in the target layer\n",
    "                            target_trait_value = idx_set[filter_target_id]\n",
    "                            #let's see if this is a prohibited item within the filter by looking up the position within the mask\n",
    "                            if not mask[target_trait_value]:\n",
    "                                print(idx_set, idx, mask)\n",
    "                                return False\n",
    "    #only allow combo if we survived all the checks\n",
    "    return True"
   ]
  },
  {
   "cell_type": "code",
   "execution_count": 9,
   "metadata": {
    "collapsed": true
   },
   "outputs": [],
   "source": [
    "# Generate a set of traits given rarities\n",
    "def generate_trait_set_from_config():\n",
    "    \n",
    "    trait_set = []\n",
    "    trait_paths = []\n",
    "    idx_set = {}\n",
    "    \n",
    "    for layer in CONFIG:\n",
    "        # Extract list of traits and cumulative rarity weights\n",
    "        traits, cum_rarities = layer['traits'], layer['cum_rarity_weights']\n",
    "        \n",
    "        \n",
    "        while True:\n",
    "            # Generate a random number\n",
    "            rand_num = random.random()\n",
    "            # Select an element index based on random number and cumulative rarity weights\n",
    "            idx = select_index(cum_rarities, rand_num)\n",
    "            allowed = is_allowed_combination(layer['id'], idx_set, idx)\n",
    "            if allowed:\n",
    "                break\n",
    "                \n",
    "        trait_set.append(traits[idx])\n",
    "        idx_set[layer['id']] = idx\n",
    "        # Add trait path to trait paths if the trait has been selected\n",
    "        if traits[idx] is not None:\n",
    "            trait_path = os.path.join(layer['directory'], traits[idx])\n",
    "            trait_paths.append(trait_path)\n",
    "        #print (idx_set)\n",
    "        \n",
    "    return idx_set, trait_set, trait_paths"
   ]
  },
  {
   "cell_type": "code",
   "execution_count": 10,
   "metadata": {
    "collapsed": false
   },
   "outputs": [],
   "source": [
    "#generate_trait_set_from_config()"
   ]
  },
  {
   "cell_type": "code",
   "execution_count": 11,
   "metadata": {
    "collapsed": true
   },
   "outputs": [],
   "source": [
    "# Generate the image set. Don't change drop_dup\n",
    "def generate_images(edition, count, drop_dup=True):\n",
    "    \n",
    "    # Initialize an empty rarity table\n",
    "    rarity_table = {}\n",
    "    for layer in CONFIG:\n",
    "        rarity_table[layer['name']] = []\n",
    "\n",
    "    # Define output path to output/edition {edition_num}\n",
    "    op_path = os.path.join('output', 'edition ' + str(edition), 'images')\n",
    "\n",
    "    # Will require this to name final images as 000, 001,...\n",
    "    zfill_count = len(str(count - 1))\n",
    "    \n",
    "    # Create output directory if it doesn't exist\n",
    "    if not os.path.exists(op_path):\n",
    "        os.makedirs(op_path)\n",
    "      \n",
    "    # Create the images\n",
    "    for n in progressbar(range(count)):\n",
    "        \n",
    "        # Set image name\n",
    "        image_name = str(n).zfill(zfill_count) + '.png'\n",
    "        \n",
    "        # Get a random set of valid traits based on rarity weights\n",
    "        idx_set, trait_sets, trait_paths = generate_trait_set_from_config()\n",
    "\n",
    "        # Generate the actual image\n",
    "        generate_single_image(trait_paths, os.path.join(op_path, image_name))\n",
    "        \n",
    "        # Populate the rarity table with metadata of newly created image\n",
    "        for idx, trait in enumerate(trait_sets):\n",
    "            if trait is not None:\n",
    "                rarity_table[CONFIG[idx]['name']].append(trait[: -1 * len('.png')])\n",
    "            else:\n",
    "                rarity_table[CONFIG[idx]['name']].append('none')\n",
    "    \n",
    "    # Create the final rarity table by removing duplicate creat\n",
    "    rarity_table = pd.DataFrame(rarity_table).drop_duplicates()\n",
    "    print(\"Generated %i images, %i are distinct\" % (count, rarity_table.shape[0]))\n",
    "    \n",
    "    if drop_dup:\n",
    "        # Get list of duplicate images\n",
    "        img_tb_removed = sorted(list(set(range(count)) - set(rarity_table.index)))\n",
    "\n",
    "        # Remove duplicate images\n",
    "        print(\"Removing %i images...\" % (len(img_tb_removed)))\n",
    "\n",
    "        #op_path = os.path.join('output', 'edition ' + str(edition))\n",
    "        for i in img_tb_removed:\n",
    "            os.remove(os.path.join(op_path, str(i).zfill(zfill_count) + '.png'))\n",
    "\n",
    "        # Rename images such that it is sequentialluy numbered\n",
    "        for idx, img in enumerate(sorted(os.listdir(op_path))):\n",
    "            os.rename(os.path.join(op_path, img), os.path.join(op_path, str(idx).zfill(zfill_count) + '.png'))\n",
    "    \n",
    "    \n",
    "    # Modify rarity table to reflect removals\n",
    "    rarity_table = rarity_table.reset_index()\n",
    "    rarity_table = rarity_table.drop('index', axis=1)\n",
    "    return rarity_table"
   ]
  },
  {
   "cell_type": "code",
   "execution_count": 15,
   "metadata": {
    "collapsed": false
   },
   "outputs": [
    {
     "name": "stdout",
     "output_type": "stream",
     "text": [
      "Checking assets...\n",
      "Assets look great! We are good to go!\n",
      "\n",
      "You can create a total of 16 distinct avatars\n",
      "\n",
      "How many avatars would you like to create? Enter a number greater than 0: \n",
      "20\n",
      "What would you like to call this edition?: \n",
      "20\n"
     ]
    },
    {
     "name": "stderr",
     "output_type": "stream",
     "text": [
      "  5% (1 of 20) |#                        | Elapsed Time: 0:00:00 ETA:   0:00:03"
     ]
    },
    {
     "name": "stdout",
     "output_type": "stream",
     "text": [
      "Starting task...\n"
     ]
    },
    {
     "name": "stderr",
     "output_type": "stream",
     "text": [
      " 45% (9 of 20) |###########              | Elapsed Time: 0:00:01 ETA:   0:00:02"
     ]
    },
    {
     "name": "stdout",
     "output_type": "stream",
     "text": [
      "{1: 1, 2: 0, 3: 0, 4: 1, 5: 1, 6: 0, 7: 0} 1 [True, False]\n",
      "{1: 1, 2: 0, 3: 0, 4: 1, 5: 1, 6: 0, 7: 0} 1 [True, False]\n",
      "{1: 1, 2: 0, 3: 0, 4: 1, 5: 1, 6: 0, 7: 0} 1 [True, False]\n"
     ]
    },
    {
     "name": "stderr",
     "output_type": "stream",
     "text": [
      " 55% (11 of 20) |#############           | Elapsed Time: 0:00:02 ETA:   0:00:01"
     ]
    },
    {
     "name": "stdout",
     "output_type": "stream",
     "text": [
      "{1: 1, 2: 0, 3: 0, 4: 0, 5: 1, 6: 0, 7: 0} 1 [True, False]\n",
      "{1: 1, 2: 0, 3: 0, 4: 0, 5: 1, 6: 0, 7: 0} 1 [True, False]\n"
     ]
    },
    {
     "name": "stderr",
     "output_type": "stream",
     "text": [
      "100% (20 of 20) |########################| Elapsed Time: 0:00:04 Time:  0:00:04\n"
     ]
    },
    {
     "name": "stdout",
     "output_type": "stream",
     "text": [
      "{1: 0, 2: 0, 3: 0, 4: 0, 5: 1, 6: 0, 7: 0} 1 [True, False]\n",
      "Generated 20 images, 10 are distinct\n",
      "Removing 10 images...\n",
      "Saving metadata...\n",
      "Task complete!\n"
     ]
    }
   ],
   "source": [
    "# Main function. Point of entry\n",
    "def main():\n",
    "\n",
    "    print(\"Checking assets...\")\n",
    "    parse_config()\n",
    "    print(\"Assets look great! We are good to go!\")\n",
    "    print()\n",
    "\n",
    "    tot_comb = get_total_combinations()\n",
    "    print(\"You can create a total of %i distinct avatars\" % (tot_comb))\n",
    "    print()\n",
    "\n",
    "    print(\"How many avatars would you like to create? Enter a number greater than 0: \")\n",
    "    while True:\n",
    "        num_avatars = int(input())\n",
    "        if num_avatars > 0:\n",
    "            break\n",
    "    \n",
    "    print(\"What would you like to call this edition?: \")\n",
    "    edition_name = input()\n",
    "\n",
    "    print(\"Starting task...\")\n",
    "    rt = generate_images(edition_name, num_avatars)\n",
    "\n",
    "    print(\"Saving metadata...\")\n",
    "    rt.to_csv(os.path.join('output', 'edition ' + str(edition_name), 'metadata.csv'))\n",
    "\n",
    "    print(\"Task complete!\")\n",
    "\n",
    "\n",
    "# Run the main function\n",
    "main()"
   ]
  },
  {
   "cell_type": "code",
   "execution_count": 13,
   "metadata": {
    "collapsed": false
   },
   "outputs": [],
   "source": [
    "#for layer in CONFIG:\n",
    "#    print(layer)"
   ]
  },
  {
   "cell_type": "code",
   "execution_count": 14,
   "metadata": {
    "collapsed": false
   },
   "outputs": [],
   "source": [
    "#print(CONFIG)"
   ]
  },
  {
   "cell_type": "code",
   "execution_count": null,
   "metadata": {
    "collapsed": true
   },
   "outputs": [],
   "source": []
  }
 ],
 "metadata": {
  "kernelspec": {
   "display_name": "Python 3",
   "language": "python",
   "name": "python3"
  },
  "language_info": {
   "codemirror_mode": {
    "name": "ipython",
    "version": 3
   },
   "file_extension": ".py",
   "mimetype": "text/x-python",
   "name": "python",
   "nbconvert_exporter": "python",
   "pygments_lexer": "ipython3",
   "version": "3.6.0"
  }
 },
 "nbformat": 4,
 "nbformat_minor": 2
}
